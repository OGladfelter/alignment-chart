{
 "cells": [
  {
   "cell_type": "code",
   "execution_count": 3,
   "id": "1e6d5012",
   "metadata": {},
   "outputs": [],
   "source": [
    "data = [{\"show\":\"LA\",\"character\":\"Zuko\",\"x_coord\":209.30232558139528,\"y_coord\":903.1007751937984,\"storedLocally\":\"1\",\"id\":\"77\"},{\"show\":\"LA\",\"character\":\"Iroh\",\"x_coord\":213.17829457364337,\"y_coord\":174.41860465116292,\"storedLocally\":\"1\",\"id\":\"78\"},{\"show\":\"LA\",\"character\":\"Azula\",\"x_coord\":461.2403100775193,\"y_coord\":151.16279069767438,\"storedLocally\":\"1\",\"id\":\"79\"},{\"show\":\"LA\",\"character\":\"Appa\",\"x_coord\":-368.21705426356584,\"y_coord\":-65.89147286821708,\"storedLocally\":\"1\",\"id\":\"80\"},{\"show\":\"LA\",\"character\":\"Momo\",\"x_coord\":-379.8449612403101,\"y_coord\":391.4728682170544,\"storedLocally\":\"1\",\"id\":\"81\"}]"
   ]
  },
  {
   "cell_type": "code",
   "execution_count": 4,
   "id": "af16883a",
   "metadata": {},
   "outputs": [],
   "source": [
    "import pandas as pd\n",
    "\n",
    "def noSpaces(value):\n",
    "    return value.replace(\" \",\"\")\n",
    "\n",
    "original = pd.read_csv(\"data/user_submitted_data.csv\")\n",
    "\n",
    "data = pd.DataFrame(data)\n",
    "data['character'] = data['character'].apply(noSpaces)\n",
    "\n",
    "combined = pd.concat([original,data])\n",
    "\n",
    "combined.to_csv(\"data/user_submitted_data.csv\", index = False)"
   ]
  },
  {
   "cell_type": "code",
   "execution_count": 3,
   "id": "64881bd4",
   "metadata": {},
   "outputs": [
    {
     "data": {
      "text/plain": [
       "TO    691\n",
       "AD    547\n",
       "BB    418\n",
       "UA    348\n",
       "LA    331\n",
       "TB    330\n",
       "C     284\n",
       "RM    149\n",
       "SL    106\n",
       "Name: show, dtype: int64"
      ]
     },
     "execution_count": 3,
     "metadata": {},
     "output_type": "execute_result"
    }
   ],
   "source": [
    "original['show'].value_counts()"
   ]
  },
  {
   "cell_type": "code",
   "execution_count": 5,
   "id": "c5259318",
   "metadata": {},
   "outputs": [
    {
     "data": {
      "text/plain": [
       "TO    716\n",
       "AD    592\n",
       "BB    418\n",
       "LA    361\n",
       "UA    348\n",
       "TB    340\n",
       "C     293\n",
       "RM    153\n",
       "SL    106\n",
       "Name: show, dtype: int64"
      ]
     },
     "execution_count": 5,
     "metadata": {},
     "output_type": "execute_result"
    }
   ],
   "source": [
    "combined['show'].value_counts()"
   ]
  },
  {
   "cell_type": "code",
   "execution_count": null,
   "id": "142e1bf4",
   "metadata": {},
   "outputs": [],
   "source": []
  }
 ],
 "metadata": {
  "kernelspec": {
   "display_name": "Python 3",
   "language": "python",
   "name": "python3"
  },
  "language_info": {
   "codemirror_mode": {
    "name": "ipython",
    "version": 3
   },
   "file_extension": ".py",
   "mimetype": "text/x-python",
   "name": "python",
   "nbconvert_exporter": "python",
   "pygments_lexer": "ipython3",
   "version": "3.8.8"
  }
 },
 "nbformat": 4,
 "nbformat_minor": 5
}
