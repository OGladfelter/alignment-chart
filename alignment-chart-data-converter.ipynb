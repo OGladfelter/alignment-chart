{
 "cells": [
  {
   "cell_type": "code",
   "execution_count": 13,
   "id": "1e6d5012",
   "metadata": {},
   "outputs": [],
   "source": [
    "data = []"
   ]
  },
  {
   "cell_type": "code",
   "execution_count": 14,
   "id": "af16883a",
   "metadata": {},
   "outputs": [],
   "source": [
    "import pandas as pd\n",
    "\n",
    "def noSpaces(value):\n",
    "    return value.replace(\" \",\"\")\n",
    "\n",
    "original = pd.read_csv(\"user_submitted_data.csv\")\n",
    "\n",
    "data = pd.DataFrame(data)\n",
    "data['character'] = data['character'].apply(noSpaces)\n",
    "\n",
    "combined = pd.concat([original,data])\n",
    "\n",
    "combined.to_csv(\"user_submitted_data.csv\", index = False)"
   ]
  },
  {
   "cell_type": "code",
   "execution_count": 7,
   "id": "64881bd4",
   "metadata": {},
   "outputs": [
    {
     "data": {
      "text/plain": [
       "TO    320\n",
       "UA    239\n",
       "AD    222\n",
       "LA    160\n",
       "C     125\n",
       "BB    103\n",
       "TB     88\n",
       "RM     86\n",
       "SL     45\n",
       "Name: show, dtype: int64"
      ]
     },
     "execution_count": 7,
     "metadata": {},
     "output_type": "execute_result"
    }
   ],
   "source": [
    "original['show'].value_counts()"
   ]
  },
  {
   "cell_type": "code",
   "execution_count": 8,
   "id": "c5259318",
   "metadata": {},
   "outputs": [
    {
     "data": {
      "text/plain": [
       "TO    320\n",
       "UA    239\n",
       "AD    222\n",
       "LA    160\n",
       "C     125\n",
       "BB    112\n",
       "TB     88\n",
       "RM     86\n",
       "SL     45\n",
       "Name: show, dtype: int64"
      ]
     },
     "execution_count": 8,
     "metadata": {},
     "output_type": "execute_result"
    }
   ],
   "source": [
    "combined['show'].value_counts()"
   ]
  }
 ],
 "metadata": {
  "kernelspec": {
   "display_name": "Python 3",
   "language": "python",
   "name": "python3"
  },
  "language_info": {
   "codemirror_mode": {
    "name": "ipython",
    "version": 3
   },
   "file_extension": ".py",
   "mimetype": "text/x-python",
   "name": "python",
   "nbconvert_exporter": "python",
   "pygments_lexer": "ipython3",
   "version": "3.8.8"
  }
 },
 "nbformat": 4,
 "nbformat_minor": 5
}
