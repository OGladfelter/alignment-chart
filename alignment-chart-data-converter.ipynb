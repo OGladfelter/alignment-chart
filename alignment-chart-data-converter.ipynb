{
 "cells": [
  {
   "cell_type": "code",
   "execution_count": 13,
   "id": "1e6d5012",
   "metadata": {},
   "outputs": [],
   "source": [
    "data = [{\"show\":\"LA\",\"character\":\"Aang\",\"x_coord\":541.213063763608,\"y_coord\":-869.799766718507,\"storedLocally\":\"1\",\"id\":\"73\"},{\"show\":\"LA\",\"character\":\"Katara\",\"x_coord\":-805.5987558320373,\"y_coord\":-897.7935458786936,\"storedLocally\":\"1\",\"id\":\"74\"},{\"show\":\"LA\",\"character\":\"Sokka\",\"x_coord\":223.95023328149318,\"y_coord\":-708.0579315707621,\"storedLocally\":\"1\",\"id\":\"75\"},{\"show\":\"LA\",\"character\":\"Toph\",\"x_coord\":407.4650077760498,\"y_coord\":-263.26788491446337,\"storedLocally\":\"1\",\"id\":\"76\"},{\"show\":\"LA\",\"character\":\"Zuko\",\"x_coord\":-348.3670295489891,\"y_coord\":868.9249611197511,\"storedLocally\":\"1\",\"id\":\"77\"},{\"show\":\"LA\",\"character\":\"Iroh\",\"x_coord\":908.2426127527217,\"y_coord\":187.74300155520996,\"storedLocally\":\"1\",\"id\":\"78\"},{\"show\":\"LA\",\"character\":\"Azula\",\"x_coord\":-783.8258164852255,\"y_coord\":638.7538880248833,\"storedLocally\":\"1\",\"id\":\"79\"},{\"show\":\"LA\",\"character\":\"Appa\",\"x_coord\":-335.92534992223955,\"y_coord\":-894.6831259720062,\"storedLocally\":\"1\",\"id\":\"80\"},{\"show\":\"LA\",\"character\":\"Momo\",\"x_coord\":902.0217729393466,\"y_coord\":-885.351866251944,\"storedLocally\":\"1\",\"id\":\"81\"}]"
   ]
  },
  {
   "cell_type": "code",
   "execution_count": 14,
   "id": "af16883a",
   "metadata": {},
   "outputs": [],
   "source": [
    "import pandas as pd\n",
    "\n",
    "def noSpaces(value):\n",
    "    return value.replace(\" \",\"\")\n",
    "\n",
    "original = pd.read_csv(\"user_submitted_data.csv\")\n",
    "\n",
    "data = pd.DataFrame(data)\n",
    "data['character'] = data['character'].apply(noSpaces)\n",
    "\n",
    "combined = pd.concat([original,data])\n",
    "\n",
    "combined.to_csv(\"user_submitted_data.csv\", index = False)"
   ]
  },
  {
   "cell_type": "code",
   "execution_count": 7,
   "id": "64881bd4",
   "metadata": {},
   "outputs": [
    {
     "data": {
      "text/plain": [
       "TO    320\n",
       "UA    239\n",
       "AD    222\n",
       "LA    160\n",
       "C     125\n",
       "BB    103\n",
       "TB     88\n",
       "RM     86\n",
       "SL     45\n",
       "Name: show, dtype: int64"
      ]
     },
     "execution_count": 7,
     "metadata": {},
     "output_type": "execute_result"
    }
   ],
   "source": [
    "original['show'].value_counts()"
   ]
  },
  {
   "cell_type": "code",
   "execution_count": 8,
   "id": "c5259318",
   "metadata": {},
   "outputs": [
    {
     "data": {
      "text/plain": [
       "TO    320\n",
       "UA    239\n",
       "AD    222\n",
       "LA    160\n",
       "C     125\n",
       "BB    112\n",
       "TB     88\n",
       "RM     86\n",
       "SL     45\n",
       "Name: show, dtype: int64"
      ]
     },
     "execution_count": 8,
     "metadata": {},
     "output_type": "execute_result"
    }
   ],
   "source": [
    "combined['show'].value_counts()"
   ]
  },
  {
   "cell_type": "code",
   "execution_count": null,
   "id": "4ed854a2",
   "metadata": {},
   "outputs": [],
   "source": []
  }
 ],
 "metadata": {
  "kernelspec": {
   "display_name": "Python 3",
   "language": "python",
   "name": "python3"
  },
  "language_info": {
   "codemirror_mode": {
    "name": "ipython",
    "version": 3
   },
   "file_extension": ".py",
   "mimetype": "text/x-python",
   "name": "python",
   "nbconvert_exporter": "python",
   "pygments_lexer": "ipython3",
   "version": "3.8.8"
  }
 },
 "nbformat": 4,
 "nbformat_minor": 5
}
