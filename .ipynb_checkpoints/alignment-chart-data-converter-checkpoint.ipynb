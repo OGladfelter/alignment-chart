{
 "cells": [
  {
   "cell_type": "code",
   "execution_count": 13,
   "id": "1e6d5012",
   "metadata": {},
   "outputs": [],
   "source": [
    "data = []"
   ]
  },
  {
   "cell_type": "code",
   "execution_count": 14,
   "id": "af16883a",
   "metadata": {},
   "outputs": [],
   "source": [
    "import pandas as pd\n",
    "\n",
    "def noSpaces(value):\n",
    "    return value.replace(\" \",\"\")\n",
    "\n",
    "original = pd.read_csv(\"user_submitted_data.csv\")\n",
    "\n",
    "data = pd.DataFrame(data)\n",
    "data['character'] = data['character'].apply(noSpaces)\n",
    "\n",
    "combined = pd.concat([original,data])\n",
    "\n",
    "combined.to_csv(\"user_submitted_data.csv\", index = False)"
   ]
  },
  {
   "cell_type": "code",
   "execution_count": 7,
   "id": "64881bd4",
   "metadata": {},
   "outputs": [
    {
     "data": {
      "text/plain": [
       "TO    320\n",
       "UA    239\n",
       "AD    222\n",
       "LA    160\n",
       "C     125\n",
       "BB    103\n",
       "TB     88\n",
       "RM     86\n",
       "SL     45\n",
       "Name: show, dtype: int64"
      ]
     },
     "execution_count": 7,
     "metadata": {},
     "output_type": "execute_result"
    }
   ],
   "source": [
    "original['show'].value_counts()"
   ]
  },
  {
   "cell_type": "code",
   "execution_count": 8,
   "id": "c5259318",
   "metadata": {},
   "outputs": [
    {
     "data": {
      "text/plain": [
       "TO    320\n",
       "UA    239\n",
       "AD    222\n",
       "LA    160\n",
       "C     125\n",
       "BB    112\n",
       "TB     88\n",
       "RM     86\n",
       "SL     45\n",
       "Name: show, dtype: int64"
      ]
     },
     "execution_count": 8,
     "metadata": {},
     "output_type": "execute_result"
    }
   ],
   "source": [
    "combined['show'].value_counts()"
   ]
  },
  {
   "cell_type": "code",
   "execution_count": 1,
   "id": "4ed854a2",
   "metadata": {},
   "outputs": [],
   "source": [
    "import pandas as pd"
   ]
  },
  {
   "cell_type": "code",
   "execution_count": 3,
   "id": "e8677abe",
   "metadata": {},
   "outputs": [],
   "source": [
    "data = pd.read_csv(\"data/user_submitted_data.csv\")"
   ]
  },
  {
   "cell_type": "code",
   "execution_count": 4,
   "id": "896d7118",
   "metadata": {},
   "outputs": [
    {
     "data": {
      "text/html": [
       "<div>\n",
       "<style scoped>\n",
       "    .dataframe tbody tr th:only-of-type {\n",
       "        vertical-align: middle;\n",
       "    }\n",
       "\n",
       "    .dataframe tbody tr th {\n",
       "        vertical-align: top;\n",
       "    }\n",
       "\n",
       "    .dataframe thead th {\n",
       "        text-align: right;\n",
       "    }\n",
       "</style>\n",
       "<table border=\"1\" class=\"dataframe\">\n",
       "  <thead>\n",
       "    <tr style=\"text-align: right;\">\n",
       "      <th></th>\n",
       "      <th>show</th>\n",
       "      <th>character</th>\n",
       "      <th>x_coord</th>\n",
       "      <th>y_coord</th>\n",
       "      <th>storedLocally</th>\n",
       "      <th>id</th>\n",
       "    </tr>\n",
       "  </thead>\n",
       "  <tbody>\n",
       "    <tr>\n",
       "      <th>0</th>\n",
       "      <td>UA</td>\n",
       "      <td>SirReginaldHargreeves</td>\n",
       "      <td>-925.675676</td>\n",
       "      <td>854.430380</td>\n",
       "      <td>1</td>\n",
       "      <td>0</td>\n",
       "    </tr>\n",
       "    <tr>\n",
       "      <th>1</th>\n",
       "      <td>UA</td>\n",
       "      <td>Pogo</td>\n",
       "      <td>-736.486486</td>\n",
       "      <td>-791.139241</td>\n",
       "      <td>1</td>\n",
       "      <td>1</td>\n",
       "    </tr>\n",
       "    <tr>\n",
       "      <th>2</th>\n",
       "      <td>UA</td>\n",
       "      <td>Grace</td>\n",
       "      <td>-87.837838</td>\n",
       "      <td>-689.873418</td>\n",
       "      <td>1</td>\n",
       "      <td>2</td>\n",
       "    </tr>\n",
       "    <tr>\n",
       "      <th>3</th>\n",
       "      <td>UA</td>\n",
       "      <td>LutherHargreeves</td>\n",
       "      <td>236.486486</td>\n",
       "      <td>474.683544</td>\n",
       "      <td>1</td>\n",
       "      <td>3</td>\n",
       "    </tr>\n",
       "    <tr>\n",
       "      <th>4</th>\n",
       "      <td>UA</td>\n",
       "      <td>DiegoHargreeves</td>\n",
       "      <td>-628.378378</td>\n",
       "      <td>-94.936709</td>\n",
       "      <td>1</td>\n",
       "      <td>4</td>\n",
       "    </tr>\n",
       "    <tr>\n",
       "      <th>...</th>\n",
       "      <td>...</td>\n",
       "      <td>...</td>\n",
       "      <td>...</td>\n",
       "      <td>...</td>\n",
       "      <td>...</td>\n",
       "      <td>...</td>\n",
       "    </tr>\n",
       "    <tr>\n",
       "      <th>1419</th>\n",
       "      <td>LA</td>\n",
       "      <td>Zuko</td>\n",
       "      <td>-348.367030</td>\n",
       "      <td>868.924961</td>\n",
       "      <td>1</td>\n",
       "      <td>77</td>\n",
       "    </tr>\n",
       "    <tr>\n",
       "      <th>1420</th>\n",
       "      <td>LA</td>\n",
       "      <td>Iroh</td>\n",
       "      <td>908.242613</td>\n",
       "      <td>187.743002</td>\n",
       "      <td>1</td>\n",
       "      <td>78</td>\n",
       "    </tr>\n",
       "    <tr>\n",
       "      <th>1421</th>\n",
       "      <td>LA</td>\n",
       "      <td>Azula</td>\n",
       "      <td>-783.825816</td>\n",
       "      <td>638.753888</td>\n",
       "      <td>1</td>\n",
       "      <td>79</td>\n",
       "    </tr>\n",
       "    <tr>\n",
       "      <th>1422</th>\n",
       "      <td>LA</td>\n",
       "      <td>Appa</td>\n",
       "      <td>-335.925350</td>\n",
       "      <td>-894.683126</td>\n",
       "      <td>1</td>\n",
       "      <td>80</td>\n",
       "    </tr>\n",
       "    <tr>\n",
       "      <th>1423</th>\n",
       "      <td>LA</td>\n",
       "      <td>Momo</td>\n",
       "      <td>902.021773</td>\n",
       "      <td>-885.351866</td>\n",
       "      <td>1</td>\n",
       "      <td>81</td>\n",
       "    </tr>\n",
       "  </tbody>\n",
       "</table>\n",
       "<p>1424 rows × 6 columns</p>\n",
       "</div>"
      ],
      "text/plain": [
       "     show              character     x_coord     y_coord  storedLocally  id\n",
       "0      UA  SirReginaldHargreeves -925.675676  854.430380              1   0\n",
       "1      UA                   Pogo -736.486486 -791.139241              1   1\n",
       "2      UA                  Grace  -87.837838 -689.873418              1   2\n",
       "3      UA       LutherHargreeves  236.486486  474.683544              1   3\n",
       "4      UA        DiegoHargreeves -628.378378  -94.936709              1   4\n",
       "...   ...                    ...         ...         ...            ...  ..\n",
       "1419   LA                   Zuko -348.367030  868.924961              1  77\n",
       "1420   LA                   Iroh  908.242613  187.743002              1  78\n",
       "1421   LA                  Azula -783.825816  638.753888              1  79\n",
       "1422   LA                   Appa -335.925350 -894.683126              1  80\n",
       "1423   LA                   Momo  902.021773 -885.351866              1  81\n",
       "\n",
       "[1424 rows x 6 columns]"
      ]
     },
     "execution_count": 4,
     "metadata": {},
     "output_type": "execute_result"
    }
   ],
   "source": [
    "data"
   ]
  },
  {
   "cell_type": "code",
   "execution_count": 5,
   "id": "13b3c8df",
   "metadata": {},
   "outputs": [
    {
     "data": {
      "text/plain": [
       "x_coord          588.057807\n",
       "y_coord          526.670792\n",
       "storedLocally      0.000000\n",
       "id                25.077964\n",
       "dtype: float64"
      ]
     },
     "execution_count": 5,
     "metadata": {},
     "output_type": "execute_result"
    }
   ],
   "source": [
    "data.std()"
   ]
  },
  {
   "cell_type": "code",
   "execution_count": null,
   "id": "651cdd35",
   "metadata": {},
   "outputs": [],
   "source": [
    "data.groupby(['characte'])"
   ]
  }
 ],
 "metadata": {
  "kernelspec": {
   "display_name": "Python 3",
   "language": "python",
   "name": "python3"
  },
  "language_info": {
   "codemirror_mode": {
    "name": "ipython",
    "version": 3
   },
   "file_extension": ".py",
   "mimetype": "text/x-python",
   "name": "python",
   "nbconvert_exporter": "python",
   "pygments_lexer": "ipython3",
   "version": "3.8.8"
  }
 },
 "nbformat": 4,
 "nbformat_minor": 5
}
