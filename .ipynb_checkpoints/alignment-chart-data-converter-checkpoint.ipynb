{
 "cells": [
  {
   "cell_type": "code",
   "execution_count": 1,
   "id": "1e6d5012",
   "metadata": {},
   "outputs": [],
   "source": [
    "import pandas as pd"
   ]
  },
  {
   "cell_type": "code",
   "execution_count": 4,
   "id": "af16883a",
   "metadata": {},
   "outputs": [],
   "source": [
    "def noSpaces(value):\n",
    "    return value.replace(\" \",\"\")\n",
    "\n",
    "original = pd.read_csv(\"data/user_submitted_data.csv\")\n",
    "\n",
    "userSubmittedData = [{\"show\":\"UA\",\"character\":\"Sir Reginald Hargreeves\",\"x_coord\":-615.9910769075962,\"y_coord\":848.0432871225719,\"storedLocally\":\"1\",\"id\":\"0\"},{\"show\":\"UA\",\"character\":\"Pogo\",\"x_coord\":-183.55864447516365,\"y_coord\":-922.2269315977354,\"storedLocally\":\"1\",\"id\":\"1\"},{\"show\":\"UA\",\"character\":\"Grace\",\"x_coord\":-1.1262635926942721,\"y_coord\":-13.443199363914687,\"storedLocally\":\"1\",\"id\":\"2\"},{\"show\":\"UA\",\"character\":\"Luther Hargreeves\",\"x_coord\":-906.5316045606459,\"y_coord\":-814.1188234896273,\"storedLocally\":\"1\",\"id\":\"3\"},{\"show\":\"UA\",\"character\":\"Diego Hargreeves\",\"x_coord\":-440.3154012319204,\"y_coord\":-506.6863910571949,\"storedLocally\":\"1\",\"id\":\"4\"},{\"show\":\"UA\",\"character\":\"Allison Hargreeves\",\"x_coord\":-656.5316174481366,\"y_coord\":483.17852535763313,\"storedLocally\":\"1\",\"id\":\"5\"},{\"show\":\"UA\",\"character\":\"Klaus Hargreeves\",\"x_coord\":900.9007634343327,\"y_coord\":-118.17292909364437,\"storedLocally\":\"1\",\"id\":\"6\"},{\"show\":\"UA\",\"character\":\"Number Five\",\"x_coord\":600.2250877586571,\"y_coord\":-422.2269315977354,\"storedLocally\":\"1\",\"id\":\"7\"},{\"show\":\"UA\",\"character\":\"Ben Hargreeves\",\"x_coord\":106.98184451541374,\"y_coord\":-594.5242288950327,\"storedLocally\":\"1\",\"id\":\"8\"},{\"show\":\"UA\",\"character\":\"Vanya Hargreeves\",\"x_coord\":-200.45053636705552,\"y_coord\":23.718962798247503,\"storedLocally\":\"1\",\"id\":\"9\"},{\"show\":\"UA\",\"character\":\"The Handler\",\"x_coord\":248.8737364073056,\"y_coord\":772.5929054054054,\"storedLocally\":\"1\",\"id\":\"10\"},{\"show\":\"RM\",\"character\":\"Beth Smith\",\"x_coord\":-693.6937796102987,\"y_coord\":-585.5152027027027,\"storedLocally\":\"1\",\"id\":\"11\"},{\"show\":\"RM\",\"character\":\"Summer Smith\",\"x_coord\":-274.7748606913799,\"y_coord\":-199.2539586247625,\"storedLocally\":\"1\",\"id\":\"12\"},{\"show\":\"RM\",\"character\":\"Rick Sanchez\",\"x_coord\":877.2521147856842,\"y_coord\":550.7460929252006,\"storedLocally\":\"1\",\"id\":\"13\"},{\"show\":\"RM\",\"character\":\"Morty Smith\",\"x_coord\":275.9007634343327,\"y_coord\":125.07031414959874,\"storedLocally\":\"1\",\"id\":\"14\"},{\"show\":\"RM\",\"character\":\"Jerry Smith\",\"x_coord\":-865.9910640201053,\"y_coord\":-734.1638513513514,\"storedLocally\":\"1\",\"id\":\"15\"},{\"show\":\"TB\",\"character\":\"Billy Butcher\",\"x_coord\":556.3061688397381,\"y_coord\":625.070417249525,\"storedLocally\":\"1\",\"id\":\"26\"},{\"show\":\"TB\",\"character\":\"Hughie Campbell\",\"x_coord\":299.54941208298146,\"y_coord\":-922.2269315977354,\"storedLocally\":\"1\",\"id\":\"27\"},{\"show\":\"TB\",\"character\":\"Mother's Milk\",\"x_coord\":-805.1802660967853,\"y_coord\":-379.43412162162156,\"storedLocally\":\"1\",\"id\":\"28\"},{\"show\":\"TB\",\"character\":\"Frenchie\",\"x_coord\":667.7926553262246,\"y_coord\":121.69193577122041,\"storedLocally\":\"1\",\"id\":\"29\"},{\"show\":\"TB\",\"character\":\"Kimiko\",\"x_coord\":-403.15323906975823,\"y_coord\":-111.41617233688771,\"storedLocally\":\"1\",\"id\":\"30\"},{\"show\":\"TB\",\"character\":\"Homelander\",\"x_coord\":-909.9099829390242,\"y_coord\":935.8811249604096,\"storedLocally\":\"1\",\"id\":\"31\"},{\"show\":\"TB\",\"character\":\"Queen Maeve\",\"x_coord\":-670.0451309616501,\"y_coord\":348.0432871225719,\"storedLocally\":\"1\",\"id\":\"32\"},{\"show\":\"TB\",\"character\":\"Black Noir\",\"x_coord\":-926.8018748309162,\"y_coord\":543.9892330685177,\"storedLocally\":\"1\",\"id\":\"33\"},{\"show\":\"TB\",\"character\":\"The Deep\",\"x_coord\":-163.28842575485646,\"y_coord\":520.3405844198692,\"storedLocally\":\"1\",\"id\":\"34\"},{\"show\":\"TB\",\"character\":\"A-Train\",\"x_coord\":-389.6397255562447,\"y_coord\":429.1243682036529,\"storedLocally\":\"1\",\"id\":\"35\"},{\"show\":\"TB\",\"character\":\"Starlight\",\"x_coord\":-643.0181039346231,\"y_coord\":-294.9746621621622,\"storedLocally\":\"1\",\"id\":\"36\"},{\"show\":\"SL\",\"character\":\"Frank Gallagher\",\"x_coord\":897.5223850559544,\"y_coord\":381.82707090635563,\"storedLocally\":\"1\",\"id\":\"37\"},{\"show\":\"SL\",\"character\":\"Fiona Gallagher\",\"x_coord\":120.49535802892751,\"y_coord\":235.4307432432431,\"storedLocally\":\"1\",\"id\":\"38\"},{\"show\":\"SL\",\"character\":\"Lip Gallagher\",\"x_coord\":259.00887154244083,\"y_coord\":-403.0827702702703,\"storedLocally\":\"1\",\"id\":\"39\"},{\"show\":\"SL\",\"character\":\"Ian Gallagher\",\"x_coord\":387.3872499208194,\"y_coord\":-237.54222972972968,\"storedLocally\":\"1\",\"id\":\"40\"},{\"show\":\"SL\",\"character\":\"Debbie Gallagher\",\"x_coord\":708.3331958667652,\"y_coord\":307.50274658203125,\"storedLocally\":\"1\",\"id\":\"41\"},{\"show\":\"SL\",\"character\":\"Carl Gallagher\",\"x_coord\":123.87373640730561,\"y_coord\":323.26858108108104,\"storedLocally\":\"1\",\"id\":\"42\"},{\"show\":\"SL\",\"character\":\"Liam Gallagher\",\"x_coord\":106.98184451541374,\"y_coord\":-230.78547297297303,\"storedLocally\":\"1\",\"id\":\"43\"},{\"show\":\"SL\",\"character\":\"Veronica Fisher\",\"x_coord\":-109.2343717008024,\"y_coord\":-291.59628378378375,\"storedLocally\":\"1\",\"id\":\"44\"},{\"show\":\"SL\",\"character\":\"Kevin Ball\",\"x_coord\":414.41427694784625,\"y_coord\":-28.082770270270316,\"storedLocally\":\"1\",\"id\":\"45\"},{\"show\":\"AD\",\"character\":\"George Bluth Sr.\",\"x_coord\":313.062925596495,\"y_coord\":387.4577702702702,\"storedLocally\":\"1\",\"id\":\"46\"},{\"show\":\"AD\",\"character\":\"Lucille Bluth\",\"x_coord\":-325.4505363670555,\"y_coord\":199.39463847392312,\"storedLocally\":\"1\",\"id\":\"47\"},{\"show\":\"AD\",\"character\":\"G.O.B. Bluth\",\"x_coord\":519.144006677576,\"y_coord\":179.12436820365292,\"storedLocally\":\"1\",\"id\":\"48\"},{\"show\":\"AD\",\"character\":\"Michael Bluth\",\"x_coord\":-622.7478336643528,\"y_coord\":-432.36206673287063,\"storedLocally\":\"1\",\"id\":\"49\"},{\"show\":\"AD\",\"character\":\"Lindsay Bluth Funke\",\"x_coord\":177.9277904613598,\"y_coord\":-33.713469634185,\"storedLocally\":\"1\",\"id\":\"50\"},{\"show\":\"AD\",\"character\":\"Tobias Funke\",\"x_coord\":434.68454721811645,\"y_coord\":-658.713418084222,\"storedLocally\":\"1\",\"id\":\"51\"},{\"show\":\"AD\",\"character\":\"Buster Bluth\",\"x_coord\":-379.5045904211096,\"y_coord\":-307.36206673287063,\"storedLocally\":\"1\",\"id\":\"52\"},{\"show\":\"AD\",\"character\":\"George Michael Bluth\",\"x_coord\":-159.91004737647802,\"y_coord\":-669.9746621621622,\"storedLocally\":\"1\",\"id\":\"53\"},{\"show\":\"AD\",\"character\":\"Maeby Funke\",\"x_coord\":-349.09918501570417,\"y_coord\":-746.5512559220597,\"storedLocally\":\"1\",\"id\":\"54\"}]\n",
    "data = pd.DataFrame(userSubmittedData)\n",
    "data['character'] = data['character'].apply(noSpaces)\n",
    "\n",
    "combined = pd.concat([original,data])\n",
    "\n",
    "combined.to_csv(\"data/user_submitted_data.csv\", index = False)"
   ]
  },
  {
   "cell_type": "code",
   "execution_count": 5,
   "id": "c5259318",
   "metadata": {},
   "outputs": [
    {
     "data": {
      "text/plain": [
       "TO    716\n",
       "AD    601\n",
       "BB    418\n",
       "LA    361\n",
       "UA    359\n",
       "TB    351\n",
       "C     293\n",
       "RM    158\n",
       "SL    115\n",
       "Name: show, dtype: int64"
      ]
     },
     "execution_count": 5,
     "metadata": {},
     "output_type": "execute_result"
    }
   ],
   "source": [
    "combined['show'].value_counts()"
   ]
  },
  {
   "cell_type": "code",
   "execution_count": null,
   "id": "1124dec4",
   "metadata": {},
   "outputs": [],
   "source": []
  },
  {
   "cell_type": "code",
   "execution_count": 7,
   "id": "e7cfc1ae",
   "metadata": {},
   "outputs": [],
   "source": [
    "df = pd.read_csv(\"data/user_submitted_data.csv\")"
   ]
  },
  {
   "cell_type": "code",
   "execution_count": 6,
   "id": "ee6a1256",
   "metadata": {},
   "outputs": [
    {
     "data": {
      "text/plain": [
       "3327"
      ]
     },
     "execution_count": 6,
     "metadata": {},
     "output_type": "execute_result"
    }
   ],
   "source": [
    "len(df)"
   ]
  },
  {
   "cell_type": "code",
   "execution_count": 8,
   "id": "67ebc1bd",
   "metadata": {},
   "outputs": [
    {
     "data": {
      "text/plain": [
       "3372"
      ]
     },
     "execution_count": 8,
     "metadata": {},
     "output_type": "execute_result"
    }
   ],
   "source": [
    "len(df)"
   ]
  },
  {
   "cell_type": "code",
   "execution_count": null,
   "id": "96668aec",
   "metadata": {},
   "outputs": [],
   "source": []
  }
 ],
 "metadata": {
  "kernelspec": {
   "display_name": "Python 3",
   "language": "python",
   "name": "python3"
  },
  "language_info": {
   "codemirror_mode": {
    "name": "ipython",
    "version": 3
   },
   "file_extension": ".py",
   "mimetype": "text/x-python",
   "name": "python",
   "nbconvert_exporter": "python",
   "pygments_lexer": "ipython3",
   "version": "3.8.8"
  }
 },
 "nbformat": 4,
 "nbformat_minor": 5
}
